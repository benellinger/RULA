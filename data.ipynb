{
 "cells": [
  {
   "cell_type": "code",
   "execution_count": 1,
   "metadata": {
    "collapsed": false
   },
   "outputs": [
    {
     "ename": "SyntaxError",
     "evalue": "(unicode error) 'unicodeescape' codec can't decode bytes in position 2-3: truncated \\UXXXXXXXX escape (<ipython-input-1-8df320b6c66c>, line 8)",
     "output_type": "error",
     "traceback": [
      "\u001b[0;36m  File \u001b[0;32m\"<ipython-input-1-8df320b6c66c>\"\u001b[0;36m, line \u001b[0;32m8\u001b[0m\n\u001b[0;31m    fid = \"C:\\Users\\oedipus\\Dropbox\\Velamed\\rula\\rula.csv\"\u001b[0m\n\u001b[0m         ^\u001b[0m\n\u001b[0;31mSyntaxError\u001b[0m\u001b[0;31m:\u001b[0m (unicode error) 'unicodeescape' codec can't decode bytes in position 2-3: truncated \\UXXXXXXXX escape\n"
     ]
    }
   ],
   "source": [
    "#!/usr/bin/env python\n",
    "\"\"\"\n",
    "module for importing data and analyzing due to rula \n",
    "\"\"\"\n",
    "\n",
    "import numpy as np\n",
    "import csv\n",
    "\n",
    "fid = \"C:\\Users\\oedipus\\Dropbox\\Velamed\\rula\\rula.csv\"\n",
    "\n",
    "def get_data(fID):\n",
    "    \"\"\"\n",
    "    input needs to *.csv format. Required decimal separator is \".\"\n",
    "    \"\"\"\n",
    "    header = np.genfromtxt(fID, delimiter=';', skip_header=4, skip_footer=-5, dtype=str)\n",
    "    data = np.genfromtxt(fID, delimiter=';', skip_header=5, dtype=float)\n",
    "    \n",
    "    return header, data\n",
    "\n",
    "header, data = get_data(fID)\n"
   ]
  },
  {
   "cell_type": "code",
   "execution_count": 12,
   "metadata": {
    "collapsed": false
   },
   "outputs": [
    {
     "name": "stdout",
     "output_type": "stream",
     "text": [
      "['\\ufeffMR32 CSV']\n",
      "['Name', 'rula']\n",
      "['Frequency', '100']\n",
      "['Date', '01-03-2018 18:24:53']\n"
     ]
    }
   ],
   "source": [
    "import csv\n",
    "\n",
    "fid = \"rula.csv\"\n",
    "\n",
    "with open(fid, encoding='utf-8') as csvfile:\n",
    "    try:\n",
    "        csvcontent = csv.reader(csvfile, delimiter=';')\n",
    "        for row in csvcontent:\n",
    "            if len(row) > 3:\n",
    "                break\n",
    "            print(row)\n",
    "    except: \n",
    "        print(\"could not load data\")"
   ]
  },
  {
   "cell_type": "code",
   "execution_count": null,
   "metadata": {
    "collapsed": true
   },
   "outputs": [],
   "source": []
  }
 ],
 "metadata": {
  "anaconda-cloud": {},
  "kernelspec": {
   "display_name": "Python [default]",
   "language": "python",
   "name": "python3"
  },
  "language_info": {
   "codemirror_mode": {
    "name": "ipython",
    "version": 3
   },
   "file_extension": ".py",
   "mimetype": "text/x-python",
   "name": "python",
   "nbconvert_exporter": "python",
   "pygments_lexer": "ipython3",
   "version": "3.5.2"
  }
 },
 "nbformat": 4,
 "nbformat_minor": 2
}
